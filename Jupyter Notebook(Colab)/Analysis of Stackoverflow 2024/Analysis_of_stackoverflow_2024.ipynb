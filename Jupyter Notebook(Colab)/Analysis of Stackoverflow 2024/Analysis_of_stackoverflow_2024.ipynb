{
  "nbformat": 4,
  "nbformat_minor": 0,
  "metadata": {
    "colab": {
      "provenance": []
    },
    "kernelspec": {
      "name": "python3",
      "display_name": "Python 3"
    },
    "language_info": {
      "name": "python"
    }
  },
  "cells": [
    {
      "cell_type": "markdown",
      "source": [
        "**Analysis of Stackoverflow Survey for 2024.**\n",
        "\n",
        "---\n",
        "\n"
      ],
      "metadata": {
        "id": "9TZbJIDQiDD2"
      }
    },
    {
      "cell_type": "code",
      "source": [
        "import pandas as pd\n",
        "\n",
        "\n",
        "survey_file = \"survey_results_public.csv\"\n",
        "schema_file = \"survey_results_schema.csv\"\n",
        "data_df = pd.read_csv(survey_file)\n",
        "schema_df = pd.read_csv(schema_file)"
      ],
      "metadata": {
        "id": "BxcV_Yk7BHBo"
      },
      "execution_count": 4,
      "outputs": []
    },
    {
      "cell_type": "markdown",
      "source": [
        "1. Скільки респондентів пройшли опитування?"
      ],
      "metadata": {
        "id": "Ng6t-hkrBLh4"
      }
    },
    {
      "cell_type": "code",
      "source": [
        "print(\"Кількість респондентів пройшли опитування:\", data_df.shape[0])"
      ],
      "metadata": {
        "colab": {
          "base_uri": "https://localhost:8080/"
        },
        "id": "SQQNYz8zBD2q",
        "outputId": "ab4ba80e-8b6a-47d3-b672-f28d5732895c"
      },
      "execution_count": null,
      "outputs": [
        {
          "output_type": "stream",
          "name": "stdout",
          "text": [
            "Кількість респондентів пройшли опитування: 65437\n"
          ]
        }
      ]
    },
    {
      "cell_type": "markdown",
      "source": [
        "2. Скільки респондентів відповіли на всі запитання?"
      ],
      "metadata": {
        "id": "Ayp49e5fBjUQ"
      }
    },
    {
      "cell_type": "code",
      "source": [
        "# Отримуємо список питань із колонки \"qname\"\n",
        "question_columns = set(schema_df[\"qname\"].dropna())\n",
        "\n",
        "# Перетинаємо зі стовпцями таблиці опитування (залишаємо тільки ті, що є у питанні)\n",
        "valid_columns = list(question_columns.intersection(data_df.columns))\n",
        "\n",
        "# Фільтруємо таблицю лише за цими стовпцями\n",
        "filtered_data = data_df[valid_columns]\n",
        "\n",
        "# Рахуємо кількість респондентів, які відповіли на всі ці питання\n",
        "full_responses = filtered_data.dropna().shape[0]\n",
        "print(\"Кількість респондентів, які відповіли на всі запитання:\", full_responses)"
      ],
      "metadata": {
        "colab": {
          "base_uri": "https://localhost:8080/"
        },
        "id": "Crfba1WbBwv-",
        "outputId": "6fbf7c45-b614-4d69-86ec-a318fab94ca6"
      },
      "execution_count": null,
      "outputs": [
        {
          "output_type": "stream",
          "name": "stdout",
          "text": [
            "Кількість респондентів, які відповіли на всі запитання: 6306\n"
          ]
        }
      ]
    },
    {
      "cell_type": "markdown",
      "source": [
        "3. Які значення мір центральної тенденції для досвіду (WorkExp) респондентів?"
      ],
      "metadata": {
        "id": "dE_ljmVAB3HF"
      }
    },
    {
      "cell_type": "code",
      "source": [
        "# Переконаємось, що WorkExp є числовим типом\n",
        "data_df['WorkExp'] = pd.to_numeric(data_df['WorkExp'], errors='coerce')\n",
        "\n",
        "# Обчислюємо міри центральної тенденції\n",
        "mean_value = round(data_df['WorkExp'].mean(), 2) # Середнє значення\n",
        "median_value = data_df['WorkExp'].median()  # Медіана\n",
        "mode_value = data_df['WorkExp'].mode()   # Мода (може бути кілька значень)\n",
        "\n",
        "print(f\"Середнє значення (Mean): {mean_value}\")\n",
        "print(f\"Медіана (Median): {median_value}\")\n",
        "print(f\"Мода (Mode): {mode_value.tolist()}\")"
      ],
      "metadata": {
        "colab": {
          "base_uri": "https://localhost:8080/"
        },
        "id": "FADCeZqmB5f8",
        "outputId": "34d1cb46-22a5-41f1-a4e3-0ca00693caa9"
      },
      "execution_count": null,
      "outputs": [
        {
          "output_type": "stream",
          "name": "stdout",
          "text": [
            "Середнє значення (Mean): 11.47\n",
            "Медіана (Median): 9.0\n",
            "Мода (Mode): [3.0]\n"
          ]
        }
      ]
    },
    {
      "cell_type": "markdown",
      "source": [
        "4. Скільки респондентів працює віддалено?"
      ],
      "metadata": {
        "id": "my8sMqFnCNy7"
      }
    },
    {
      "cell_type": "code",
      "source": [
        "# Фільтруємо респондентів, які працюють віддалено (зі значенням \"Remote\")\n",
        "remote_workers_ = data_df[data_df['RemoteWork'].notna()]\n",
        "remote_workers = data_df[data_df['RemoteWork'] == 'Remote']\n",
        "\n",
        "# Кількість респондентів, які працюють віддалено\n",
        "remote_count = remote_workers.shape[0]\n",
        "print(f\"Кількість респондентів, які працюють віддалено: {remote_count}\")"
      ],
      "metadata": {
        "colab": {
          "base_uri": "https://localhost:8080/"
        },
        "id": "8sDkSohMC1kC",
        "outputId": "c8bb6cdd-5c5b-4b36-bf63-69b4b65f0ace"
      },
      "execution_count": null,
      "outputs": [
        {
          "output_type": "stream",
          "name": "stdout",
          "text": [
            "Кількість респондентів, які працюють віддалено: 20831\n"
          ]
        }
      ]
    },
    {
      "cell_type": "markdown",
      "source": [
        "5. Який відсоток респондентів програмує на Python?"
      ],
      "metadata": {
        "id": "YIzf33CPDAAI"
      }
    },
    {
      "cell_type": "code",
      "source": [
        "# # Перевіримо як називається стовпець з мовами\n",
        "# print(list(data_df.columns))\n",
        "\n",
        "# Стовпець з мовами називається 'LanguageHaveWorkedWith'\n",
        "# Перевіряємо, чи містить кожен рядок 'Python'\n",
        "python_users = data_df['LanguageHaveWorkedWith'].dropna().str.contains('Python', na=False)\n",
        "\n",
        "# Обчислюємо відсоток\n",
        "percentage_python = round((python_users.sum() / len(data_df)) * 100, 2)\n",
        "print(f\"Відсоток респондентів, які програмують на Python: {percentage_python}%\")"
      ],
      "metadata": {
        "colab": {
          "base_uri": "https://localhost:8080/"
        },
        "id": "fJCaeCW-DBEv",
        "outputId": "22119199-6ddb-4aff-c68c-bef31a13df86"
      },
      "execution_count": null,
      "outputs": [
        {
          "output_type": "stream",
          "name": "stdout",
          "text": [
            "Відсоток респондентів, які програмують на Python: 47.06%\n"
          ]
        }
      ]
    },
    {
      "cell_type": "markdown",
      "source": [
        "6. Скільки респондентів навчалося програмувати за допомогою онлайн курсів?\n"
      ],
      "metadata": {
        "id": "U7mEpugeDgJW"
      }
    },
    {
      "cell_type": "code",
      "source": [
        "data_df['learned_with_online_courses'] = data_df.LearnCode.str.contains('online courses', case=False, na=False)\n",
        "online_count = data_df.learned_with_online_courses.sum()\n",
        "print(\"Кількість респондентів навчалося програмувати за допомогою онлайн курсів -\", online_count)"
      ],
      "metadata": {
        "colab": {
          "base_uri": "https://localhost:8080/"
        },
        "id": "WxXxyFfrDhvd",
        "outputId": "e778d2a2-1447-4cfe-bce5-464f34768203"
      },
      "execution_count": null,
      "outputs": [
        {
          "output_type": "stream",
          "name": "stdout",
          "text": [
            "Кількість респондентів навчалося програмувати за допомогою онлайн курсів - 30271\n"
          ]
        }
      ]
    },
    {
      "cell_type": "markdown",
      "source": [
        "7. Серед респондентів що програмують на Python в групуванні по країнам, яка середня та медіанна сума компенсації (ConvertedCompYearly) в кожній країні?"
      ],
      "metadata": {
        "id": "ETST1W5fDnAt"
      }
    },
    {
      "cell_type": "code",
      "source": [
        "# Фільтруємо респондентів, які вказали, що програмують на Python\n",
        "python_devs = data_df[data_df['LanguageHaveWorkedWith'].notna() & data_df['LanguageHaveWorkedWith'].str.contains('Python', na=False)]\n",
        "\n",
        "# Групуємо за країнами та обчислюємо середнє та медіану зарплати\n",
        "compensation_stats = python_devs.groupby('Country')['ConvertedCompYearly'].agg(['mean', 'median']).round(1)\n",
        "\n",
        "# # Встановлюємо максимальну кількість рядків для виведення\n",
        "# pd.set_option('display.max_rows', None)  # Показуємо всі рядки\n",
        "\n",
        "# Виводимо результат\n",
        "print(compensation_stats)\n"
      ],
      "metadata": {
        "colab": {
          "base_uri": "https://localhost:8080/"
        },
        "id": "uZ0btw1XDo9G",
        "outputId": "1644b18f-ee27-4d71-c5de-fe7865e9f170"
      },
      "execution_count": null,
      "outputs": [
        {
          "output_type": "stream",
          "name": "stdout",
          "text": [
            "                                                        mean    median\n",
            "Country                                                               \n",
            "Afghanistan                                           4543.0    4768.5\n",
            "Albania                                              56295.0   56295.0\n",
            "Algeria                                               9053.3    6230.0\n",
            "Andorra                                             193331.0  193331.0\n",
            "Angola                                                   6.0       6.0\n",
            "Argentina                                            40806.9   24000.0\n",
            "Armenia                                              17329.7    6450.0\n",
            "Australia                                           101653.4   85886.0\n",
            "Austria                                              63766.0   61361.0\n",
            "Azerbaijan                                           39478.8   29444.0\n",
            "...                                                      ...       ...\n",
            "United Kingdom of Great Britain and Northern Ir...  104081.5   84713.0\n",
            "United Republic of Tanzania                          20203.7   15296.0\n",
            "United States of America                            162948.2  140000.0\n",
            "Uruguay                                              78753.7   70679.0\n",
            "Uzbekistan                                           30738.3   11586.0\n",
            "Venezuela, Bolivarian Republic of...                 21500.0    7100.0\n",
            "Viet Nam                                             14014.6   10180.0\n",
            "Yemen                                                10297.3    5333.0\n",
            "Zambia                                               28123.7   22803.0\n",
            "Zimbabwe                                             37500.0   18000.0\n",
            "\n",
            "[173 rows x 2 columns]\n"
          ]
        }
      ]
    },
    {
      "cell_type": "markdown",
      "source": [
        "8. Які рівні освіти мають 5 респондентів з найбільшою компенсацією?"
      ],
      "metadata": {
        "id": "o3QfTNw1Dvkd"
      }
    },
    {
      "cell_type": "code",
      "source": [
        "data_df[['ResponseId', 'EdLevel', 'ConvertedCompYearly']].sort_values(by='ConvertedCompYearly', ascending=False).reset_index(drop=True).head(5)"
      ],
      "metadata": {
        "colab": {
          "base_uri": "https://localhost:8080/",
          "height": 206
        },
        "id": "4XcdA3xgDwOF",
        "outputId": "c8603a43-cadb-4e6c-daa5-dca81f166be0"
      },
      "execution_count": null,
      "outputs": [
        {
          "output_type": "execute_result",
          "data": {
            "text/plain": [
              "   ResponseId                                         EdLevel  \\\n",
              "0       15838    Bachelor’s degree (B.A., B.S., B.Eng., etc.)   \n",
              "1       12724  Professional degree (JD, MD, Ph.D, Ed.D, etc.)   \n",
              "2       28380  Professional degree (JD, MD, Ph.D, Ed.D, etc.)   \n",
              "3       17594    Bachelor’s degree (B.A., B.S., B.Eng., etc.)   \n",
              "4       17673  Professional degree (JD, MD, Ph.D, Ed.D, etc.)   \n",
              "\n",
              "   ConvertedCompYearly  \n",
              "0           16256603.0  \n",
              "1           13818022.0  \n",
              "2            9000000.0  \n",
              "3            6340564.0  \n",
              "4            4936778.0  "
            ],
            "text/html": [
              "\n",
              "  <div id=\"df-eb223fb1-8863-4bf8-8c64-815c7bfdfef2\" class=\"colab-df-container\">\n",
              "    <div>\n",
              "<style scoped>\n",
              "    .dataframe tbody tr th:only-of-type {\n",
              "        vertical-align: middle;\n",
              "    }\n",
              "\n",
              "    .dataframe tbody tr th {\n",
              "        vertical-align: top;\n",
              "    }\n",
              "\n",
              "    .dataframe thead th {\n",
              "        text-align: right;\n",
              "    }\n",
              "</style>\n",
              "<table border=\"1\" class=\"dataframe\">\n",
              "  <thead>\n",
              "    <tr style=\"text-align: right;\">\n",
              "      <th></th>\n",
              "      <th>ResponseId</th>\n",
              "      <th>EdLevel</th>\n",
              "      <th>ConvertedCompYearly</th>\n",
              "    </tr>\n",
              "  </thead>\n",
              "  <tbody>\n",
              "    <tr>\n",
              "      <th>0</th>\n",
              "      <td>15838</td>\n",
              "      <td>Bachelor’s degree (B.A., B.S., B.Eng., etc.)</td>\n",
              "      <td>16256603.0</td>\n",
              "    </tr>\n",
              "    <tr>\n",
              "      <th>1</th>\n",
              "      <td>12724</td>\n",
              "      <td>Professional degree (JD, MD, Ph.D, Ed.D, etc.)</td>\n",
              "      <td>13818022.0</td>\n",
              "    </tr>\n",
              "    <tr>\n",
              "      <th>2</th>\n",
              "      <td>28380</td>\n",
              "      <td>Professional degree (JD, MD, Ph.D, Ed.D, etc.)</td>\n",
              "      <td>9000000.0</td>\n",
              "    </tr>\n",
              "    <tr>\n",
              "      <th>3</th>\n",
              "      <td>17594</td>\n",
              "      <td>Bachelor’s degree (B.A., B.S., B.Eng., etc.)</td>\n",
              "      <td>6340564.0</td>\n",
              "    </tr>\n",
              "    <tr>\n",
              "      <th>4</th>\n",
              "      <td>17673</td>\n",
              "      <td>Professional degree (JD, MD, Ph.D, Ed.D, etc.)</td>\n",
              "      <td>4936778.0</td>\n",
              "    </tr>\n",
              "  </tbody>\n",
              "</table>\n",
              "</div>\n",
              "    <div class=\"colab-df-buttons\">\n",
              "\n",
              "  <div class=\"colab-df-container\">\n",
              "    <button class=\"colab-df-convert\" onclick=\"convertToInteractive('df-eb223fb1-8863-4bf8-8c64-815c7bfdfef2')\"\n",
              "            title=\"Convert this dataframe to an interactive table.\"\n",
              "            style=\"display:none;\">\n",
              "\n",
              "  <svg xmlns=\"http://www.w3.org/2000/svg\" height=\"24px\" viewBox=\"0 -960 960 960\">\n",
              "    <path d=\"M120-120v-720h720v720H120Zm60-500h600v-160H180v160Zm220 220h160v-160H400v160Zm0 220h160v-160H400v160ZM180-400h160v-160H180v160Zm440 0h160v-160H620v160ZM180-180h160v-160H180v160Zm440 0h160v-160H620v160Z\"/>\n",
              "  </svg>\n",
              "    </button>\n",
              "\n",
              "  <style>\n",
              "    .colab-df-container {\n",
              "      display:flex;\n",
              "      gap: 12px;\n",
              "    }\n",
              "\n",
              "    .colab-df-convert {\n",
              "      background-color: #E8F0FE;\n",
              "      border: none;\n",
              "      border-radius: 50%;\n",
              "      cursor: pointer;\n",
              "      display: none;\n",
              "      fill: #1967D2;\n",
              "      height: 32px;\n",
              "      padding: 0 0 0 0;\n",
              "      width: 32px;\n",
              "    }\n",
              "\n",
              "    .colab-df-convert:hover {\n",
              "      background-color: #E2EBFA;\n",
              "      box-shadow: 0px 1px 2px rgba(60, 64, 67, 0.3), 0px 1px 3px 1px rgba(60, 64, 67, 0.15);\n",
              "      fill: #174EA6;\n",
              "    }\n",
              "\n",
              "    .colab-df-buttons div {\n",
              "      margin-bottom: 4px;\n",
              "    }\n",
              "\n",
              "    [theme=dark] .colab-df-convert {\n",
              "      background-color: #3B4455;\n",
              "      fill: #D2E3FC;\n",
              "    }\n",
              "\n",
              "    [theme=dark] .colab-df-convert:hover {\n",
              "      background-color: #434B5C;\n",
              "      box-shadow: 0px 1px 3px 1px rgba(0, 0, 0, 0.15);\n",
              "      filter: drop-shadow(0px 1px 2px rgba(0, 0, 0, 0.3));\n",
              "      fill: #FFFFFF;\n",
              "    }\n",
              "  </style>\n",
              "\n",
              "    <script>\n",
              "      const buttonEl =\n",
              "        document.querySelector('#df-eb223fb1-8863-4bf8-8c64-815c7bfdfef2 button.colab-df-convert');\n",
              "      buttonEl.style.display =\n",
              "        google.colab.kernel.accessAllowed ? 'block' : 'none';\n",
              "\n",
              "      async function convertToInteractive(key) {\n",
              "        const element = document.querySelector('#df-eb223fb1-8863-4bf8-8c64-815c7bfdfef2');\n",
              "        const dataTable =\n",
              "          await google.colab.kernel.invokeFunction('convertToInteractive',\n",
              "                                                    [key], {});\n",
              "        if (!dataTable) return;\n",
              "\n",
              "        const docLinkHtml = 'Like what you see? Visit the ' +\n",
              "          '<a target=\"_blank\" href=https://colab.research.google.com/notebooks/data_table.ipynb>data table notebook</a>'\n",
              "          + ' to learn more about interactive tables.';\n",
              "        element.innerHTML = '';\n",
              "        dataTable['output_type'] = 'display_data';\n",
              "        await google.colab.output.renderOutput(dataTable, element);\n",
              "        const docLink = document.createElement('div');\n",
              "        docLink.innerHTML = docLinkHtml;\n",
              "        element.appendChild(docLink);\n",
              "      }\n",
              "    </script>\n",
              "  </div>\n",
              "\n",
              "\n",
              "<div id=\"df-d2c2a797-cbb5-4e7e-89d5-d061c7189ce1\">\n",
              "  <button class=\"colab-df-quickchart\" onclick=\"quickchart('df-d2c2a797-cbb5-4e7e-89d5-d061c7189ce1')\"\n",
              "            title=\"Suggest charts\"\n",
              "            style=\"display:none;\">\n",
              "\n",
              "<svg xmlns=\"http://www.w3.org/2000/svg\" height=\"24px\"viewBox=\"0 0 24 24\"\n",
              "     width=\"24px\">\n",
              "    <g>\n",
              "        <path d=\"M19 3H5c-1.1 0-2 .9-2 2v14c0 1.1.9 2 2 2h14c1.1 0 2-.9 2-2V5c0-1.1-.9-2-2-2zM9 17H7v-7h2v7zm4 0h-2V7h2v10zm4 0h-2v-4h2v4z\"/>\n",
              "    </g>\n",
              "</svg>\n",
              "  </button>\n",
              "\n",
              "<style>\n",
              "  .colab-df-quickchart {\n",
              "      --bg-color: #E8F0FE;\n",
              "      --fill-color: #1967D2;\n",
              "      --hover-bg-color: #E2EBFA;\n",
              "      --hover-fill-color: #174EA6;\n",
              "      --disabled-fill-color: #AAA;\n",
              "      --disabled-bg-color: #DDD;\n",
              "  }\n",
              "\n",
              "  [theme=dark] .colab-df-quickchart {\n",
              "      --bg-color: #3B4455;\n",
              "      --fill-color: #D2E3FC;\n",
              "      --hover-bg-color: #434B5C;\n",
              "      --hover-fill-color: #FFFFFF;\n",
              "      --disabled-bg-color: #3B4455;\n",
              "      --disabled-fill-color: #666;\n",
              "  }\n",
              "\n",
              "  .colab-df-quickchart {\n",
              "    background-color: var(--bg-color);\n",
              "    border: none;\n",
              "    border-radius: 50%;\n",
              "    cursor: pointer;\n",
              "    display: none;\n",
              "    fill: var(--fill-color);\n",
              "    height: 32px;\n",
              "    padding: 0;\n",
              "    width: 32px;\n",
              "  }\n",
              "\n",
              "  .colab-df-quickchart:hover {\n",
              "    background-color: var(--hover-bg-color);\n",
              "    box-shadow: 0 1px 2px rgba(60, 64, 67, 0.3), 0 1px 3px 1px rgba(60, 64, 67, 0.15);\n",
              "    fill: var(--button-hover-fill-color);\n",
              "  }\n",
              "\n",
              "  .colab-df-quickchart-complete:disabled,\n",
              "  .colab-df-quickchart-complete:disabled:hover {\n",
              "    background-color: var(--disabled-bg-color);\n",
              "    fill: var(--disabled-fill-color);\n",
              "    box-shadow: none;\n",
              "  }\n",
              "\n",
              "  .colab-df-spinner {\n",
              "    border: 2px solid var(--fill-color);\n",
              "    border-color: transparent;\n",
              "    border-bottom-color: var(--fill-color);\n",
              "    animation:\n",
              "      spin 1s steps(1) infinite;\n",
              "  }\n",
              "\n",
              "  @keyframes spin {\n",
              "    0% {\n",
              "      border-color: transparent;\n",
              "      border-bottom-color: var(--fill-color);\n",
              "      border-left-color: var(--fill-color);\n",
              "    }\n",
              "    20% {\n",
              "      border-color: transparent;\n",
              "      border-left-color: var(--fill-color);\n",
              "      border-top-color: var(--fill-color);\n",
              "    }\n",
              "    30% {\n",
              "      border-color: transparent;\n",
              "      border-left-color: var(--fill-color);\n",
              "      border-top-color: var(--fill-color);\n",
              "      border-right-color: var(--fill-color);\n",
              "    }\n",
              "    40% {\n",
              "      border-color: transparent;\n",
              "      border-right-color: var(--fill-color);\n",
              "      border-top-color: var(--fill-color);\n",
              "    }\n",
              "    60% {\n",
              "      border-color: transparent;\n",
              "      border-right-color: var(--fill-color);\n",
              "    }\n",
              "    80% {\n",
              "      border-color: transparent;\n",
              "      border-right-color: var(--fill-color);\n",
              "      border-bottom-color: var(--fill-color);\n",
              "    }\n",
              "    90% {\n",
              "      border-color: transparent;\n",
              "      border-bottom-color: var(--fill-color);\n",
              "    }\n",
              "  }\n",
              "</style>\n",
              "\n",
              "  <script>\n",
              "    async function quickchart(key) {\n",
              "      const quickchartButtonEl =\n",
              "        document.querySelector('#' + key + ' button');\n",
              "      quickchartButtonEl.disabled = true;  // To prevent multiple clicks.\n",
              "      quickchartButtonEl.classList.add('colab-df-spinner');\n",
              "      try {\n",
              "        const charts = await google.colab.kernel.invokeFunction(\n",
              "            'suggestCharts', [key], {});\n",
              "      } catch (error) {\n",
              "        console.error('Error during call to suggestCharts:', error);\n",
              "      }\n",
              "      quickchartButtonEl.classList.remove('colab-df-spinner');\n",
              "      quickchartButtonEl.classList.add('colab-df-quickchart-complete');\n",
              "    }\n",
              "    (() => {\n",
              "      let quickchartButtonEl =\n",
              "        document.querySelector('#df-d2c2a797-cbb5-4e7e-89d5-d061c7189ce1 button');\n",
              "      quickchartButtonEl.style.display =\n",
              "        google.colab.kernel.accessAllowed ? 'block' : 'none';\n",
              "    })();\n",
              "  </script>\n",
              "</div>\n",
              "    </div>\n",
              "  </div>\n"
            ],
            "application/vnd.google.colaboratory.intrinsic+json": {
              "type": "dataframe",
              "summary": "{\n  \"name\": \"data_df[['ResponseId', 'EdLevel', 'ConvertedCompYearly']]\",\n  \"rows\": 5,\n  \"fields\": [\n    {\n      \"column\": \"ResponseId\",\n      \"properties\": {\n        \"dtype\": \"number\",\n        \"std\": 5906,\n        \"min\": 12724,\n        \"max\": 28380,\n        \"num_unique_values\": 5,\n        \"samples\": [\n          12724,\n          17673,\n          28380\n        ],\n        \"semantic_type\": \"\",\n        \"description\": \"\"\n      }\n    },\n    {\n      \"column\": \"EdLevel\",\n      \"properties\": {\n        \"dtype\": \"category\",\n        \"num_unique_values\": 2,\n        \"samples\": [\n          \"Professional degree (JD, MD, Ph.D, Ed.D, etc.)\",\n          \"Bachelor\\u2019s degree (B.A., B.S., B.Eng., etc.)\"\n        ],\n        \"semantic_type\": \"\",\n        \"description\": \"\"\n      }\n    },\n    {\n      \"column\": \"ConvertedCompYearly\",\n      \"properties\": {\n        \"dtype\": \"number\",\n        \"std\": 4840591.022738215,\n        \"min\": 4936778.0,\n        \"max\": 16256603.0,\n        \"num_unique_values\": 5,\n        \"samples\": [\n          13818022.0,\n          4936778.0\n        ],\n        \"semantic_type\": \"\",\n        \"description\": \"\"\n      }\n    }\n  ]\n}"
            }
          },
          "metadata": {},
          "execution_count": 39
        }
      ]
    },
    {
      "cell_type": "markdown",
      "source": [
        "Бонусні запитання:\n",
        "1. В кожній віковій категорії, який відсоток респондентів програмує на Python?"
      ],
      "metadata": {
        "id": "N3WTaKYEEH9z"
      }
    },
    {
      "cell_type": "code",
      "source": [
        "# Глянемо, які відповіді зазначені у стовпцю 'Age'.\n",
        "unique_responses_ = data_df['Age'].unique()\n",
        "print(\"Унікальні відповіді:\", unique_responses_)"
      ],
      "metadata": {
        "colab": {
          "base_uri": "https://localhost:8080/"
        },
        "id": "z0XNeb2UEJfs",
        "outputId": "5ddd0701-aa4e-41cd-a0aa-1c879f4cd3c9"
      },
      "execution_count": null,
      "outputs": [
        {
          "output_type": "stream",
          "name": "stdout",
          "text": [
            "Унікальні відповіді: ['Under 18 years old' '35-44 years old' '45-54 years old'\n",
            " '18-24 years old' '25-34 years old' '55-64 years old' 'Prefer not to say'\n",
            " '65 years or older']\n"
          ]
        }
      ]
    },
    {
      "cell_type": "code",
      "source": [
        "# Унікальні вікові категорії\n",
        "age_categories = ['Prefer not to say', 'Under 18 years old', '18-24 years old', '25-34 years old',\n",
        "                  '35-44 years old', '45-54 years old', '55-64 years old', '65 years or older']\n",
        "\n",
        "# Перевірка чи респонденти програмують на Python\n",
        "python_devs = data_df[data_df['LanguageHaveWorkedWith'].str.contains('Python', na=False)]\n",
        "\n",
        "# Створення порожнього словника для результатів\n",
        "age_python_percent = {}\n",
        "\n",
        "# Для кожної вікової категорії\n",
        "for category in age_categories:\n",
        "    # Відбираємо респондентів з цієї вікової категорії\n",
        "    age_group = data_df[data_df['Age'] == category]\n",
        "\n",
        "    # Респонденти в Python\n",
        "    python_in_group = python_devs[python_devs['Age'] == category]\n",
        "\n",
        "    # Обчислюємо відсоток\n",
        "    percent = (len(python_in_group) / len(age_group)) * 100 if len(age_group) > 0 else 0\n",
        "    age_python_percent[category] = percent\n",
        "\n",
        "# Виводимо відсотки для кожної вікової категорії\n",
        "for category, percent in age_python_percent.items():\n",
        "    print(f\"Вікова категорія: {category} - Відсоток програмістів на Python: {percent:.2f}%\")"
      ],
      "metadata": {
        "colab": {
          "base_uri": "https://localhost:8080/"
        },
        "id": "1ryoC25gFmyX",
        "outputId": "f2a3f321-636b-44af-c7ad-528166b20ad8"
      },
      "execution_count": null,
      "outputs": [
        {
          "output_type": "stream",
          "name": "stdout",
          "text": [
            "Вікова категорія: Prefer not to say - Відсоток програмістів на Python: 45.34%\n",
            "Вікова категорія: Under 18 years old - Відсоток програмістів на Python: 64.88%\n",
            "Вікова категорія: 18-24 years old - Відсоток програмістів на Python: 55.92%\n",
            "Вікова категорія: 25-34 years old - Відсоток програмістів на Python: 45.77%\n",
            "Вікова категорія: 35-44 years old - Відсоток програмістів на Python: 41.52%\n",
            "Вікова категорія: 45-54 years old - Відсоток програмістів на Python: 41.91%\n",
            "Вікова категорія: 55-64 years old - Відсоток програмістів на Python: 40.43%\n",
            "Вікова категорія: 65 years or older - Відсоток програмістів на Python: 37.56%\n"
          ]
        }
      ]
    },
    {
      "cell_type": "markdown",
      "source": [
        "2. Серед респондентів що знаходяться в 75 перцентилі за компенсацією середнього і працюють віддалено, які індустрії є найрозповсюдженішими?"
      ],
      "metadata": {
        "id": "YE8ZNcW3HOZv"
      }
    },
    {
      "cell_type": "code",
      "source": [
        "# Перевіримо як називаються потрібні колонки до цього запитання.\n",
        "print(list(data_df.columns))"
      ],
      "metadata": {
        "colab": {
          "base_uri": "https://localhost:8080/"
        },
        "id": "xspovW3nILtE",
        "outputId": "0dc36a52-2c3c-41f7-8742-bd53a334df31"
      },
      "execution_count": null,
      "outputs": [
        {
          "output_type": "stream",
          "name": "stdout",
          "text": [
            "['ResponseId', 'MainBranch', 'Age', 'Employment', 'RemoteWork', 'Check', 'CodingActivities', 'EdLevel', 'LearnCode', 'LearnCodeOnline', 'TechDoc', 'YearsCode', 'YearsCodePro', 'DevType', 'OrgSize', 'PurchaseInfluence', 'BuyNewTool', 'BuildvsBuy', 'TechEndorse', 'Country', 'Currency', 'CompTotal', 'LanguageHaveWorkedWith', 'LanguageWantToWorkWith', 'LanguageAdmired', 'DatabaseHaveWorkedWith', 'DatabaseWantToWorkWith', 'DatabaseAdmired', 'PlatformHaveWorkedWith', 'PlatformWantToWorkWith', 'PlatformAdmired', 'WebframeHaveWorkedWith', 'WebframeWantToWorkWith', 'WebframeAdmired', 'EmbeddedHaveWorkedWith', 'EmbeddedWantToWorkWith', 'EmbeddedAdmired', 'MiscTechHaveWorkedWith', 'MiscTechWantToWorkWith', 'MiscTechAdmired', 'ToolsTechHaveWorkedWith', 'ToolsTechWantToWorkWith', 'ToolsTechAdmired', 'NEWCollabToolsHaveWorkedWith', 'NEWCollabToolsWantToWorkWith', 'NEWCollabToolsAdmired', 'OpSysPersonal use', 'OpSysProfessional use', 'OfficeStackAsyncHaveWorkedWith', 'OfficeStackAsyncWantToWorkWith', 'OfficeStackAsyncAdmired', 'OfficeStackSyncHaveWorkedWith', 'OfficeStackSyncWantToWorkWith', 'OfficeStackSyncAdmired', 'AISearchDevHaveWorkedWith', 'AISearchDevWantToWorkWith', 'AISearchDevAdmired', 'NEWSOSites', 'SOVisitFreq', 'SOAccount', 'SOPartFreq', 'SOHow', 'SOComm', 'AISelect', 'AISent', 'AIBen', 'AIAcc', 'AIComplex', 'AIToolCurrently Using', 'AIToolInterested in Using', 'AIToolNot interested in Using', 'AINextMuch more integrated', 'AINextNo change', 'AINextMore integrated', 'AINextLess integrated', 'AINextMuch less integrated', 'AIThreat', 'AIEthics', 'AIChallenges', 'TBranch', 'ICorPM', 'WorkExp', 'Knowledge_1', 'Knowledge_2', 'Knowledge_3', 'Knowledge_4', 'Knowledge_5', 'Knowledge_6', 'Knowledge_7', 'Knowledge_8', 'Knowledge_9', 'Frequency_1', 'Frequency_2', 'Frequency_3', 'TimeSearching', 'TimeAnswering', 'Frustration', 'ProfessionalTech', 'ProfessionalCloud', 'ProfessionalQuestion', 'Industry', 'JobSatPoints_1', 'JobSatPoints_4', 'JobSatPoints_5', 'JobSatPoints_6', 'JobSatPoints_7', 'JobSatPoints_8', 'JobSatPoints_9', 'JobSatPoints_10', 'JobSatPoints_11', 'SurveyLength', 'SurveyEase', 'ConvertedCompYearly', 'JobSat']\n"
          ]
        }
      ]
    },
    {
      "cell_type": "code",
      "source": [
        "# Перевіримо наявних значень у стовпці RemoteWork\n",
        "print(data_df['RemoteWork'].unique())"
      ],
      "metadata": {
        "colab": {
          "base_uri": "https://localhost:8080/"
        },
        "id": "TXNy63mAGB-a",
        "outputId": "e01ae342-837b-4393-e85a-aabc067f70ae"
      },
      "execution_count": null,
      "outputs": [
        {
          "output_type": "stream",
          "name": "stdout",
          "text": [
            "['Remote' nan 'In-person' 'Hybrid (some remote, some in-person)']\n"
          ]
        }
      ]
    },
    {
      "cell_type": "code",
      "source": [
        "print(data_df[(data_df.ConvertedCompYearly > data_df.ConvertedCompYearly.quantile(0.75)) & \\\n",
        "              (data_df.RemoteWork == 'Remote')].Industry.value_counts().reset_index())"
      ],
      "metadata": {
        "colab": {
          "base_uri": "https://localhost:8080/"
        },
        "id": "ahfPlmJbJh8N",
        "outputId": "31558d8a-1c1d-4295-f56b-b9e85047c93d"
      },
      "execution_count": 6,
      "outputs": [
        {
          "output_type": "stream",
          "name": "stdout",
          "text": [
            "                                      Industry  count\n",
            "0                         Software Development    768\n",
            "1                                       Other:    239\n",
            "2                                   Healthcare    156\n",
            "3                                      Fintech    156\n",
            "4   Internet, Telecomm or Information Services    145\n",
            "5                 Retail and Consumer Services    106\n",
            "6                 Media & Advertising Services    103\n",
            "7         Computer Systems Design and Services     69\n",
            "8                   Banking/Financial Services     69\n",
            "9                                   Government     69\n",
            "10             Transportation, or Supply Chain     67\n",
            "11                                   Insurance     50\n",
            "12                               Manufacturing     48\n",
            "13                            Higher Education     42\n",
            "14                                      Energy     36\n"
          ]
        }
      ]
    }
  ]
}
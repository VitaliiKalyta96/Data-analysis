{
  "nbformat": 4,
  "nbformat_minor": 0,
  "metadata": {
    "colab": {
      "provenance": []
    },
    "kernelspec": {
      "name": "python3",
      "display_name": "Python 3"
    },
    "language_info": {
      "name": "python"
    }
  },
  "cells": [
    {
      "cell_type": "markdown",
      "source": [
        "\"Завдання 1. Створити функцію, яка приймає два аргументи (число та ступінь), та повертає результат підняття числа до вказаної ступені\""
      ],
      "metadata": {
        "id": "F8m2BbtaxcoQ"
      }
    },
    {
      "cell_type": "code",
      "source": [
        "# перший спосіб\n",
        "print(pow(3, 4))"
      ],
      "metadata": {
        "colab": {
          "base_uri": "https://localhost:8080/"
        },
        "id": "ErxIHqb0xi6v",
        "outputId": "4fbcdba3-4b02-49f3-bd61-5a2718f68bcf"
      },
      "execution_count": null,
      "outputs": [
        {
          "output_type": "stream",
          "name": "stdout",
          "text": [
            "81\n"
          ]
        }
      ]
    },
    {
      "cell_type": "code",
      "source": [
        "# другий спосіб\n",
        "def power(a, b):\n",
        "  return a ** b\n",
        "\n",
        "power(3, 4)"
      ],
      "metadata": {
        "colab": {
          "base_uri": "https://localhost:8080/"
        },
        "id": "6s8jKjrTyXNG",
        "outputId": "3728d3e2-1267-4d7d-ebda-765d9345b6b3"
      },
      "execution_count": null,
      "outputs": [
        {
          "output_type": "execute_result",
          "data": {
            "text/plain": [
              "81"
            ]
          },
          "metadata": {},
          "execution_count": 6
        }
      ]
    },
    {
      "cell_type": "markdown",
      "source": [
        "\"Завдання 2. Написати програму, яка виводить всі парні числа від 1 до 20.\""
      ],
      "metadata": {
        "id": "nHeANiSXzBD4"
      }
    },
    {
      "cell_type": "code",
      "source": [
        "for x in range(1, 20):\n",
        "  if x % 2 == 0:\n",
        "    print(x)"
      ],
      "metadata": {
        "colab": {
          "base_uri": "https://localhost:8080/"
        },
        "id": "X_ymIPmmzcZd",
        "outputId": "d8a5f442-243a-423e-cfa5-4ccbe7446af5"
      },
      "execution_count": null,
      "outputs": [
        {
          "output_type": "stream",
          "name": "stdout",
          "text": [
            "2\n",
            "4\n",
            "6\n",
            "8\n",
            "10\n",
            "12\n",
            "14\n",
            "16\n",
            "18\n"
          ]
        }
      ]
    },
    {
      "cell_type": "markdown",
      "source": [
        "\"Завдання 3. Створити список чисел від 1 до 10, та вивести його зворотньо.\""
      ],
      "metadata": {
        "id": "WIBK9tct3-Gc"
      }
    },
    {
      "cell_type": "code",
      "source": [
        "numbers = list(range(1, 10))\n",
        "print(list(reversed(numbers)))"
      ],
      "metadata": {
        "colab": {
          "base_uri": "https://localhost:8080/"
        },
        "id": "cB-8myEy4KWo",
        "outputId": "299bd1a4-ebe5-4d1c-a8a0-c611324308fa"
      },
      "execution_count": 17,
      "outputs": [
        {
          "output_type": "stream",
          "name": "stdout",
          "text": [
            "[9, 8, 7, 6, 5, 4, 3, 2, 1]\n"
          ]
        }
      ]
    },
    {
      "cell_type": "markdown",
      "source": [
        "\"Завдання 4. Написати функцію, яка приймає рядок та повертає кількість унікальних символів у цьому рядку.\""
      ],
      "metadata": {
        "id": "b_u0-XMm49Rn"
      }
    },
    {
      "cell_type": "code",
      "source": [
        "def count_unique_chars(text):\n",
        "    return len(set(text))\n",
        "\n",
        "user_input = input(\"Введи рядок: \")\n",
        "print(\"Кількість унікальних символів:\", count_unique_chars(user_input))\n"
      ],
      "metadata": {
        "colab": {
          "base_uri": "https://localhost:8080/"
        },
        "id": "EnZKugGr5Rbz",
        "outputId": "6ff142a6-44fc-40c8-a1c9-45467a3c369a"
      },
      "execution_count": 18,
      "outputs": [
        {
          "output_type": "stream",
          "name": "stdout",
          "text": [
            "Введи рядок: фівв\n",
            "Кількість унікальних символів: 3\n"
          ]
        }
      ]
    },
    {
      "cell_type": "markdown",
      "source": [
        "Завдання 5. Перевернути массив використовуючи зворотню індексацію."
      ],
      "metadata": {
        "id": "liupiw1S7S07"
      }
    },
    {
      "cell_type": "code",
      "source": [
        "array_ = [1, 2, 3, 4, 5, 6, 7, 8, 9, 10]\n",
        "reversed_list = array_[::-1]\n",
        "print(reversed_list)\n"
      ],
      "metadata": {
        "colab": {
          "base_uri": "https://localhost:8080/"
        },
        "id": "LJYuZgwk7TRK",
        "outputId": "b6e95d1b-0738-4641-f889-6a5029747ddc"
      },
      "execution_count": 19,
      "outputs": [
        {
          "output_type": "stream",
          "name": "stdout",
          "text": [
            "[10, 9, 8, 7, 6, 5, 4, 3, 2, 1]\n"
          ]
        }
      ]
    },
    {
      "cell_type": "markdown",
      "source": [
        "\"Завдання 6. Створити словник, який містить дані про книгу (назва, автор, рік видання) та вивести його вміст\""
      ],
      "metadata": {
        "id": "d6bIZIaO8fJs"
      }
    },
    {
      "cell_type": "code",
      "source": [
        "book_data = {\"title\": \"Adventures\", \"author\": \"Milano Perretini\", \"year\": 1984}\n",
        "print(book_data)"
      ],
      "metadata": {
        "colab": {
          "base_uri": "https://localhost:8080/"
        },
        "id": "Xm-0ze3B8f8D",
        "outputId": "70bf0f86-cbae-4ae8-fc80-957ed6febed3"
      },
      "execution_count": 23,
      "outputs": [
        {
          "output_type": "stream",
          "name": "stdout",
          "text": [
            "{'title': 'Adventures', 'author': 'Milano Perretini', 'year': 1984}\n"
          ]
        }
      ]
    },
    {
      "cell_type": "markdown",
      "source": [
        "\"Завдання 7. Написати програму, яка обчислює суму перших 100 натуральних чисел\""
      ],
      "metadata": {
        "id": "q1bPY0lQ9jf3"
      }
    },
    {
      "cell_type": "code",
      "source": [
        "total = sum(range(1, 101))\n",
        "print(\"Сума перших 100 натуральних чисел:\", total)"
      ],
      "metadata": {
        "colab": {
          "base_uri": "https://localhost:8080/"
        },
        "id": "ON9o1rD29j3u",
        "outputId": "a35d6868-e8fa-469b-b8b5-05bc2caceee1"
      },
      "execution_count": 24,
      "outputs": [
        {
          "output_type": "stream",
          "name": "stdout",
          "text": [
            "Сума перших 100 натуральних чисел: 5050\n"
          ]
        }
      ]
    },
    {
      "cell_type": "markdown",
      "source": [
        "Завдання 1. Створити DataFrame з двох списків (назва книги та автор) та вивести перші 5 рядків:"
      ],
      "metadata": {
        "id": "rGA017Bu-d6d"
      }
    },
    {
      "cell_type": "code",
      "source": [
        "import pandas as pd\n",
        "\n",
        "titles = [\"Книга 1\", \"Книга 2\", \"Книга 3\", \"Книга 4\", \"Книга 5\", \"Книга 6\", \"Книга 7\"]\n",
        "authors = [\"Автор A\", \"Автор B\", \"Автор C\", \"Автор D\", \"Автор E\", \"Автор F\", \"Автор G\"]\n",
        "\n",
        "books_data = pd.DataFrame({\n",
        "    \"Назва книги\": titles,\n",
        "    \"Автор\": authors\n",
        "})\n",
        "\n",
        "print(books_data.head())"
      ],
      "metadata": {
        "colab": {
          "base_uri": "https://localhost:8080/"
        },
        "id": "1ce_AObs-eex",
        "outputId": "a6a1c5bd-7dc4-4582-efd1-56db130b49b7"
      },
      "execution_count": 27,
      "outputs": [
        {
          "output_type": "stream",
          "name": "stdout",
          "text": [
            "  Назва книги    Автор\n",
            "0     Книга 1  Автор A\n",
            "1     Книга 2  Автор B\n",
            "2     Книга 3  Автор C\n",
            "3     Книга 4  Автор D\n",
            "4     Книга 5  Автор E\n"
          ]
        }
      ]
    },
    {
      "cell_type": "markdown",
      "source": [
        "Завдання 2. Завантажити даних з CSV-файлу та вивести статистику про числові колонки"
      ],
      "metadata": {
        "id": "vyzm7YM3_gjU"
      }
    },
    {
      "cell_type": "code",
      "source": [
        "df = pd.read_csv(\"taxis.csv\")\n",
        "print(df.describe())\n"
      ],
      "metadata": {
        "colab": {
          "base_uri": "https://localhost:8080/"
        },
        "id": "ohbto28I_hCU",
        "outputId": "9ec1518b-67aa-4be8-a691-c6c24dcc1b11"
      },
      "execution_count": 28,
      "outputs": [
        {
          "output_type": "stream",
          "name": "stdout",
          "text": [
            "        passengers     distance         fare         tip        tolls  \\\n",
            "count  6433.000000  6433.000000  6433.000000  6433.00000  6433.000000   \n",
            "mean      1.539251     3.024617    13.091073     1.97922     0.325273   \n",
            "std       1.203768     3.827867    11.551804     2.44856     1.415267   \n",
            "min       0.000000     0.000000     1.000000     0.00000     0.000000   \n",
            "25%       1.000000     0.980000     6.500000     0.00000     0.000000   \n",
            "50%       1.000000     1.640000     9.500000     1.70000     0.000000   \n",
            "75%       2.000000     3.210000    15.000000     2.80000     0.000000   \n",
            "max       6.000000    36.700000   150.000000    33.20000    24.020000   \n",
            "\n",
            "             total  \n",
            "count  6433.000000  \n",
            "mean     18.517794  \n",
            "std      13.815570  \n",
            "min       1.300000  \n",
            "25%      10.800000  \n",
            "50%      14.160000  \n",
            "75%      20.300000  \n",
            "max     174.820000  \n"
          ]
        }
      ]
    },
    {
      "cell_type": "markdown",
      "source": [
        "\"Завдання 3. Вибрати лише рядки, де значення у колонці \"\"Оцінка\"\" більше 4\""
      ],
      "metadata": {
        "id": "5baIDGtuD7Eu"
      }
    },
    {
      "cell_type": "code",
      "source": [
        "data = {\n",
        "    \"Студент\": [\"Студент 1\", \"Студент 2\", \"Студент 3\", \"Студент 4\", \"Студент 5\", \"Студент 6\", \"Студент 7\"],\n",
        "    \"Оцінка\": [4, 3, 4, 3, 5, 2, 5],\n",
        "    \"Назва книги\": titles\n",
        "}\n",
        "df = pd.DataFrame(data)\n",
        "print(df)\n"
      ],
      "metadata": {
        "colab": {
          "base_uri": "https://localhost:8080/"
        },
        "id": "yhAUqwkZEuZN",
        "outputId": "3bbf6617-4fd8-45cc-9658-baffea84b4d3"
      },
      "execution_count": 35,
      "outputs": [
        {
          "output_type": "stream",
          "name": "stdout",
          "text": [
            "     Студент  Оцінка Назва книги\n",
            "0  Студент 1       4     Книга 1\n",
            "1  Студент 2       3     Книга 2\n",
            "2  Студент 3       4     Книга 3\n",
            "3  Студент 4       3     Книга 4\n",
            "4  Студент 5       5     Книга 5\n",
            "5  Студент 6       2     Книга 6\n",
            "6  Студент 7       5     Книга 7\n"
          ]
        }
      ]
    },
    {
      "cell_type": "code",
      "source": [
        "# Вибір рядків, де значення в колонці \"Оцінка\" більше 4\n",
        "filtered_df = df[df[\"Оцінка\"] > 4]\n",
        "print(filtered_df)"
      ],
      "metadata": {
        "colab": {
          "base_uri": "https://localhost:8080/"
        },
        "id": "VWy2Ya1sE1JC",
        "outputId": "32b5744f-02c1-4a75-bf38-d8194b7f3b83"
      },
      "execution_count": 36,
      "outputs": [
        {
          "output_type": "stream",
          "name": "stdout",
          "text": [
            "     Студент  Оцінка Назва книги\n",
            "4  Студент 5       5     Книга 5\n",
            "6  Студент 7       5     Книга 7\n"
          ]
        }
      ]
    },
    {
      "cell_type": "markdown",
      "source": [
        "Завдання 4. Об'єднати два DataFrames за спільними колонками та вивести результат"
      ],
      "metadata": {
        "id": "lCgFDONBFCdg"
      }
    },
    {
      "cell_type": "code",
      "source": [
        "merged_df = pd.merge(df, books_data, on=\"Назва книги\")\n",
        "print(merged_df)"
      ],
      "metadata": {
        "colab": {
          "base_uri": "https://localhost:8080/"
        },
        "id": "Fsok6XFmFC8n",
        "outputId": "7fd9c68b-e2df-4b66-d38f-796c503ae095"
      },
      "execution_count": 39,
      "outputs": [
        {
          "output_type": "stream",
          "name": "stdout",
          "text": [
            "     Студент  Оцінка Назва книги    Автор\n",
            "0  Студент 1       4     Книга 1  Автор A\n",
            "1  Студент 2       3     Книга 2  Автор B\n",
            "2  Студент 3       4     Книга 3  Автор C\n",
            "3  Студент 4       3     Книга 4  Автор D\n",
            "4  Студент 5       5     Книга 5  Автор E\n",
            "5  Студент 6       2     Книга 6  Автор F\n",
            "6  Студент 7       5     Книга 7  Автор G\n"
          ]
        }
      ]
    },
    {
      "cell_type": "markdown",
      "source": [
        "\"Завдання 5. Використати функцію apply для створення нового стовпця на основі умови - У вас є таблиця з оцінками студентів, і вам потрібно створити новий стовпець \"\"Grade\"\" на основі наступних критеріїв: A (90 і вище), B (80-89), C (менше 80). Дані:import pandas as pddata = {'Score': [85, 92, 78, 95, 88]}df = pd.DataFrame(data)\""
      ],
      "metadata": {
        "id": "z8vCaQK_NBxG"
      }
    },
    {
      "cell_type": "code",
      "source": [
        "import pandas as pd\n",
        "\n",
        "data = {'Score': [85, 92, 78, 95, 88]}\n",
        "df = pd.DataFrame(data)\n",
        "\n",
        "def assign_grade(score):\n",
        "    if score >= 90:\n",
        "        return \"A\"\n",
        "    elif score >= 80:\n",
        "        return \"B\"\n",
        "    else:\n",
        "        return \"C\"\n",
        "\n",
        "df[\"Grade\"] = df[\"Score\"].apply(assign_grade)\n",
        "\n",
        "print(df)"
      ],
      "metadata": {
        "colab": {
          "base_uri": "https://localhost:8080/"
        },
        "id": "4fphC0neNHdP",
        "outputId": "359a7fc5-2c23-4f0f-a66d-8c37224c4e83"
      },
      "execution_count": 44,
      "outputs": [
        {
          "output_type": "stream",
          "name": "stdout",
          "text": [
            "   Score Grade\n",
            "0     85     B\n",
            "1     92     A\n",
            "2     78     C\n",
            "3     95     A\n",
            "4     88     B\n"
          ]
        }
      ]
    }
  ]
}